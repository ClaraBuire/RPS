{
 "cells": [
  {
   "cell_type": "code",
   "execution_count": 29,
   "metadata": {},
   "outputs": [],
   "source": [
    "import numpy\n",
    "import numpy as np\n",
    "import torch\n",
    "import torch.nn as nn\n",
    "import torch.nn.functional as F\n",
    "import torch.utils.data.dataloader as dataloader\n",
    "import torch.optim as optim\n",
    "import torchvision \n",
    "\n",
    "from torch.utils.data import TensorDataset\n",
    "from torch.autograd import Variable\n",
    "from torchvision import transforms\n",
    "from torchvision.transforms import *\n",
    "import matplotlib.pyplot as plt\n",
    "\n",
    "SEED = 1\n",
    "\n",
    "# CUDA?\n",
    "cuda = torch.cuda.is_available()\n",
    "\n",
    "# For reproducibility\n",
    "torch.manual_seed(SEED)\n",
    "\n",
    "if cuda:\n",
    "    torch.cuda.manual_seed(SEED)"
   ]
  },
  {
   "cell_type": "code",
   "execution_count": 30,
   "metadata": {},
   "outputs": [
    {
     "name": "stdout",
     "output_type": "stream",
     "text": [
      "<torch.utils.data.dataset.Subset object at 0x7f182023e390>\n",
      "161\n",
      "41\n",
      "['Paper', 'Rock', 'Scissors']\n",
      "202\n",
      "torch.Size([1, 32, 32])\n",
      "0\n"
     ]
    },
    {
     "name": "stderr",
     "output_type": "stream",
     "text": [
      "/opt/miniconda/lib/python3.6/site-packages/ipykernel_launcher.py:35: UserWarning: Implicit dimension choice for softmax has been deprecated. Change the call to include dim=X as an argument.\n"
     ]
    },
    {
     "data": {
      "text/plain": [
       "[<matplotlib.lines.Line2D at 0x7f182016be80>]"
      ]
     },
     "execution_count": 30,
     "metadata": {},
     "output_type": "execute_result"
    },
    {
     "data": {
      "image/png": "[encoded data removed]",
      "text/plain": [
       "<Figure size 432x288 with 1 Axes>"
      ]
     },
     "metadata": {
      "needs_background": "light"
     },
     "output_type": "display_data"
    }
   ],
   "source": [
    "transformations = transforms.Compose([transforms.Resize((32,32)),transforms.Grayscale(),transforms.RandomVerticalFlip(p=0.5), transforms.RandomRotation(45),transforms.ToTensor(),])\n",
    "\n",
    "#Download the dataset\n",
    "imagenet_data = torchvision.datasets.ImageFolder('./img',transform=transformations) \n",
    "train_size = int(0.8 * len(imagenet_data))\n",
    "test_size = len(imagenet_data) - train_size\n",
    "train_data, test_data = torch.utils.data.random_split(imagenet_data, [train_size, test_size])\n",
    "\n",
    "print(train_data)\n",
    "print(train_size)\n",
    "print(test_size)\n",
    "\n",
    "#Create DataLoader\n",
    "\n",
    "data_loader = dict(shuffle=True, batch_size=50,num_workers=4, pin_memory=True) \n",
    "train_loader = dataloader.DataLoader(train_data, **data_loader)\n",
    "test_loader = dataloader.DataLoader(test_data, **data_loader)\n",
    "\n",
    "print(imagenet_data.classes)\n",
    "image, label = imagenet_data[0]\n",
    "print(len(imagenet_data))\n",
    "print(image.size())\n",
    "print(label)\n",
    "\n",
    "\n",
    "class Model(nn.Module):\n",
    "    def __init__(self):\n",
    "        super(Model, self).__init__()\n",
    "        self.f1 = nn.Linear(32*32, 16*16)\n",
    "        self.f2 = nn.Linear(16*16, 3)\n",
    "\n",
    "    def forward(self, x):\n",
    "        out1 = F.relu(self.f1(x.view(-1,32*32)))\n",
    "        out2 = self.f2(out1)\n",
    "        return F.softmax(out2)\n",
    "    \n",
    "model = Model()\n",
    "if cuda:\n",
    "    model.cuda()\n",
    "optimizer = optim.Adam(model.parameters(), lr=1e-4)\n",
    "\n",
    "EPOCHS=300\n",
    "losses = []\n",
    "model.train()\n",
    "for epoch in range(EPOCHS):\n",
    "    for batch_idx, (data, label) in enumerate(train_loader):\n",
    "        data, target = Variable(data), Variable(label)\n",
    "        #print(images.shape)\n",
    "        optimizer.zero_grad()\n",
    "       # print(labels)\n",
    "        y_pred = model(data) \n",
    "        loss = F.cross_entropy(y_pred, label)\n",
    "        loss.backward()\n",
    "        optimizer.step()\n",
    "        losses.append(loss.cpu().item())\n",
    "\n",
    "plt.plot(losses)\n",
    "#rajouter des flips et des epochs"
   ]
  },
  {
   "cell_type": "code",
   "execution_count": 32,
   "metadata": {},
   "outputs": [
    {
     "name": "stdout",
     "output_type": "stream",
     "text": [
      "0.3170731707317073\n"
     ]
    },
    {
     "name": "stderr",
     "output_type": "stream",
     "text": [
      "/opt/miniconda/lib/python3.6/site-packages/ipykernel_launcher.py:35: UserWarning: Implicit dimension choice for softmax has been deprecated. Change the call to include dim=X as an argument.\n"
     ]
    }
   ],
   "source": [
    "dataiter = iter(test_loader)\n",
    "image, label = dataiter.next()\n",
    "model.eval()\n",
    "output = model(image)\n",
    "pred = output.data.max(1)[1]\n",
    "d = pred.eq(label.data).cpu()\n",
    "accuracy = d.sum().item()/d.size()[0]\n",
    "print(accuracy)"
   ]
  }
 ],
 "metadata": {
  "kernelspec": {
   "display_name": "Python 3",
   "language": "python",
   "name": "python3"
  },
  "language_info": {
   "codemirror_mode": {
    "name": "ipython",
    "version": 3
   },
   "file_extension": ".py",
   "mimetype": "text/x-python",
   "name": "python",
   "nbconvert_exporter": "python",
   "pygments_lexer": "ipython3",
   "version": "3.6.6"
  }
 },
 "nbformat": 4,
 "nbformat_minor": 2
}
